version https://git-lfs.github.com/spec/v1
oid sha256:0d85220c5ffb0e8eafb3cfb9b5c85d8a5d00741a9c780a98fd380a83db342c92
size 384383
